{
 "cells": [
  {
   "cell_type": "code",
   "execution_count": 51,
   "id": "1947b96e-1d87-4a19-baf8-dc25de36ed4d",
   "metadata": {
    "tags": []
   },
   "outputs": [
    {
     "data": {
      "text/html": [
       "<div>\n",
       "<style scoped>\n",
       "    .dataframe tbody tr th:only-of-type {\n",
       "        vertical-align: middle;\n",
       "    }\n",
       "\n",
       "    .dataframe tbody tr th {\n",
       "        vertical-align: top;\n",
       "    }\n",
       "\n",
       "    .dataframe thead th {\n",
       "        text-align: right;\n",
       "    }\n",
       "</style>\n",
       "<table border=\"1\" class=\"dataframe\">\n",
       "  <thead>\n",
       "    <tr style=\"text-align: right;\">\n",
       "      <th></th>\n",
       "      <th>ID</th>\n",
       "      <th>Name</th>\n",
       "      <th>Category</th>\n",
       "      <th>Subcategory</th>\n",
       "      <th>Country</th>\n",
       "      <th>Launched</th>\n",
       "      <th>Deadline</th>\n",
       "      <th>Goal</th>\n",
       "      <th>Pledged</th>\n",
       "      <th>Backers</th>\n",
       "      <th>State</th>\n",
       "    </tr>\n",
       "  </thead>\n",
       "  <tbody>\n",
       "    <tr>\n",
       "      <th>0</th>\n",
       "      <td>1860890148</td>\n",
       "      <td>Grace Jones Does Not Give A F$#% T-Shirt (limi...</td>\n",
       "      <td>Fashion</td>\n",
       "      <td>Fashion</td>\n",
       "      <td>United States</td>\n",
       "      <td>2009-04-21 21:02:48</td>\n",
       "      <td>2009-05-31</td>\n",
       "      <td>1000</td>\n",
       "      <td>625</td>\n",
       "      <td>30</td>\n",
       "      <td>Failed</td>\n",
       "    </tr>\n",
       "    <tr>\n",
       "      <th>1</th>\n",
       "      <td>709707365</td>\n",
       "      <td>CRYSTAL ANTLERS UNTITLED MOVIE</td>\n",
       "      <td>Film &amp; Video</td>\n",
       "      <td>Shorts</td>\n",
       "      <td>United States</td>\n",
       "      <td>2009-04-23 00:07:53</td>\n",
       "      <td>2009-07-20</td>\n",
       "      <td>80000</td>\n",
       "      <td>22</td>\n",
       "      <td>3</td>\n",
       "      <td>Failed</td>\n",
       "    </tr>\n",
       "  </tbody>\n",
       "</table>\n",
       "</div>"
      ],
      "text/plain": [
       "           ID                                               Name   \n",
       "0  1860890148  Grace Jones Does Not Give A F$#% T-Shirt (limi...  \\\n",
       "1   709707365                     CRYSTAL ANTLERS UNTITLED MOVIE   \n",
       "\n",
       "       Category Subcategory        Country             Launched    Deadline   \n",
       "0       Fashion     Fashion  United States  2009-04-21 21:02:48  2009-05-31  \\\n",
       "1  Film & Video      Shorts  United States  2009-04-23 00:07:53  2009-07-20   \n",
       "\n",
       "    Goal  Pledged  Backers   State  \n",
       "0   1000      625       30  Failed  \n",
       "1  80000       22        3  Failed  "
      ]
     },
     "execution_count": 51,
     "metadata": {},
     "output_type": "execute_result"
    }
   ],
   "source": [
    "import pandas as pd\n",
    "import numpy as np\n",
    "import warnings\n",
    "import matplotlib.pyplot as plt\n",
    "\n",
    "warnings.filterwarnings('ignore')\n",
    "\n",
    "# import data\n",
    "df=pd.read_csv('data/Kickstarter_projects.csv')\n",
    "df.head(2)"
   ]
  },
  {
   "cell_type": "code",
   "execution_count": null,
   "id": "de6e7633-7576-4fa5-8a02-1bb6626d72d2",
   "metadata": {},
   "outputs": [],
   "source": [
    "# to do \n",
    "# create target variable \n",
    "# drop id, name\n",
    "# create date columns\n",
    "# create time dummies (years, launched or deadline)\n",
    "# create time active column (Deadline date - Launched date)"
   ]
  },
  {
   "cell_type": "code",
   "execution_count": 6,
   "id": "d79df107-f8b0-418d-a847-3af00ba44fc0",
   "metadata": {
    "tags": []
   },
   "outputs": [
    {
     "name": "stdout",
     "output_type": "stream",
     "text": [
      "<class 'pandas.core.frame.DataFrame'>\n",
      "RangeIndex: 374853 entries, 0 to 374852\n",
      "Data columns (total 11 columns):\n",
      " #   Column       Non-Null Count   Dtype \n",
      "---  ------       --------------   ----- \n",
      " 0   ID           374853 non-null  int64 \n",
      " 1   Name         374853 non-null  object\n",
      " 2   Category     374853 non-null  object\n",
      " 3   Subcategory  374853 non-null  object\n",
      " 4   Country      374853 non-null  object\n",
      " 5   Launched     374853 non-null  object\n",
      " 6   Deadline     374853 non-null  object\n",
      " 7   Goal         374853 non-null  int64 \n",
      " 8   Pledged      374853 non-null  int64 \n",
      " 9   Backers      374853 non-null  int64 \n",
      " 10  State        374853 non-null  object\n",
      "dtypes: int64(4), object(7)\n",
      "memory usage: 31.5+ MB\n"
     ]
    }
   ],
   "source": [
    "#We take an initial look at columns and datatypes. Launched and Deadline should be defined as datetime.\n",
    "df.info()"
   ]
  },
  {
   "cell_type": "code",
   "execution_count": 48,
   "id": "e38ebaf9-1788-475d-8f9d-55af8362a881",
   "metadata": {
    "tags": []
   },
   "outputs": [
    {
     "data": {
      "text/plain": [
       "False    374853\n",
       "Name: count, dtype: int64"
      ]
     },
     "execution_count": 48,
     "metadata": {},
     "output_type": "execute_result"
    }
   ],
   "source": [
    "#overall no duplicates\n",
    "df.duplicated().value_counts()"
   ]
  },
  {
   "cell_type": "code",
   "execution_count": 46,
   "id": "a224e6fd-4d3a-430d-a3b9-5621d099063d",
   "metadata": {
    "tags": []
   },
   "outputs": [
    {
     "data": {
      "text/plain": [
       "374853"
      ]
     },
     "execution_count": 46,
     "metadata": {},
     "output_type": "execute_result"
    }
   ],
   "source": [
    "# checking for duplicates. No duplicate IDs\n",
    "df['ID'].nunique()"
   ]
  },
  {
   "cell_type": "code",
   "execution_count": 47,
   "id": "e039864c-62ec-47b2-b0d6-23ca83bf2592",
   "metadata": {
    "tags": []
   },
   "outputs": [
    {
     "data": {
      "text/plain": [
       "372061"
      ]
     },
     "execution_count": 47,
     "metadata": {},
     "output_type": "execute_result"
    }
   ],
   "source": [
    "#We see some duplicate names. Repeat submissions or same names by chance?\n",
    "df['Name'].nunique()"
   ]
  },
  {
   "cell_type": "code",
   "execution_count": 30,
   "id": "d714a750-f263-4068-ac10-10eb83d26d79",
   "metadata": {
    "tags": []
   },
   "outputs": [
    {
     "data": {
      "text/html": [
       "<div>\n",
       "<style scoped>\n",
       "    .dataframe tbody tr th:only-of-type {\n",
       "        vertical-align: middle;\n",
       "    }\n",
       "\n",
       "    .dataframe tbody tr th {\n",
       "        vertical-align: top;\n",
       "    }\n",
       "\n",
       "    .dataframe thead th {\n",
       "        text-align: right;\n",
       "    }\n",
       "</style>\n",
       "<table border=\"1\" class=\"dataframe\">\n",
       "  <thead>\n",
       "    <tr style=\"text-align: right;\">\n",
       "      <th></th>\n",
       "      <th>ID</th>\n",
       "      <th>Goal</th>\n",
       "      <th>Pledged</th>\n",
       "      <th>Backers</th>\n",
       "      <th>funded</th>\n",
       "    </tr>\n",
       "  </thead>\n",
       "  <tbody>\n",
       "    <tr>\n",
       "      <th>count</th>\n",
       "      <td>3.748530e+05</td>\n",
       "      <td>3.748530e+05</td>\n",
       "      <td>3.748530e+05</td>\n",
       "      <td>374853.000000</td>\n",
       "      <td>374853.000000</td>\n",
       "    </tr>\n",
       "    <tr>\n",
       "      <th>mean</th>\n",
       "      <td>1.074656e+09</td>\n",
       "      <td>4.586378e+04</td>\n",
       "      <td>9.121073e+03</td>\n",
       "      <td>106.690359</td>\n",
       "      <td>0.357076</td>\n",
       "    </tr>\n",
       "    <tr>\n",
       "      <th>std</th>\n",
       "      <td>6.191377e+08</td>\n",
       "      <td>1.158778e+06</td>\n",
       "      <td>9.132054e+04</td>\n",
       "      <td>911.718520</td>\n",
       "      <td>0.479138</td>\n",
       "    </tr>\n",
       "    <tr>\n",
       "      <th>min</th>\n",
       "      <td>5.971000e+03</td>\n",
       "      <td>0.000000e+00</td>\n",
       "      <td>0.000000e+00</td>\n",
       "      <td>0.000000</td>\n",
       "      <td>0.000000</td>\n",
       "    </tr>\n",
       "    <tr>\n",
       "      <th>25%</th>\n",
       "      <td>5.380728e+08</td>\n",
       "      <td>2.000000e+03</td>\n",
       "      <td>3.100000e+01</td>\n",
       "      <td>2.000000</td>\n",
       "      <td>0.000000</td>\n",
       "    </tr>\n",
       "    <tr>\n",
       "      <th>50%</th>\n",
       "      <td>1.075300e+09</td>\n",
       "      <td>5.500000e+03</td>\n",
       "      <td>6.250000e+02</td>\n",
       "      <td>12.000000</td>\n",
       "      <td>0.000000</td>\n",
       "    </tr>\n",
       "    <tr>\n",
       "      <th>75%</th>\n",
       "      <td>1.610149e+09</td>\n",
       "      <td>1.600000e+04</td>\n",
       "      <td>4.051000e+03</td>\n",
       "      <td>57.000000</td>\n",
       "      <td>1.000000</td>\n",
       "    </tr>\n",
       "    <tr>\n",
       "      <th>max</th>\n",
       "      <td>2.147476e+09</td>\n",
       "      <td>1.663614e+08</td>\n",
       "      <td>2.033899e+07</td>\n",
       "      <td>219382.000000</td>\n",
       "      <td>1.000000</td>\n",
       "    </tr>\n",
       "  </tbody>\n",
       "</table>\n",
       "</div>"
      ],
      "text/plain": [
       "                 ID          Goal       Pledged        Backers         funded\n",
       "count  3.748530e+05  3.748530e+05  3.748530e+05  374853.000000  374853.000000\n",
       "mean   1.074656e+09  4.586378e+04  9.121073e+03     106.690359       0.357076\n",
       "std    6.191377e+08  1.158778e+06  9.132054e+04     911.718520       0.479138\n",
       "min    5.971000e+03  0.000000e+00  0.000000e+00       0.000000       0.000000\n",
       "25%    5.380728e+08  2.000000e+03  3.100000e+01       2.000000       0.000000\n",
       "50%    1.075300e+09  5.500000e+03  6.250000e+02      12.000000       0.000000\n",
       "75%    1.610149e+09  1.600000e+04  4.051000e+03      57.000000       1.000000\n",
       "max    2.147476e+09  1.663614e+08  2.033899e+07  219382.000000       1.000000"
      ]
     },
     "execution_count": 30,
     "metadata": {},
     "output_type": "execute_result"
    }
   ],
   "source": [
    "# We describe the continuous data.\n",
    "df.describe()"
   ]
  },
  {
   "cell_type": "code",
   "execution_count": 25,
   "id": "06488915-8001-4422-aaa3-7feedad99eb4",
   "metadata": {
    "tags": []
   },
   "outputs": [
    {
     "data": {
      "text/plain": [
       "State\n",
       "Failed        197611\n",
       "Successful    133851\n",
       "Canceled       38751\n",
       "Live            2798\n",
       "Suspended       1842\n",
       "Name: count, dtype: int64"
      ]
     },
     "execution_count": 25,
     "metadata": {},
     "output_type": "execute_result"
    }
   ],
   "source": [
    "# We check the State column and convert it into successful 1 and  0 for all other categories (failed)\n",
    "df['State'].value_counts()"
   ]
  },
  {
   "cell_type": "code",
   "execution_count": 26,
   "id": "5c416aa5-d2b0-43d5-a76f-5519b28569bb",
   "metadata": {
    "tags": []
   },
   "outputs": [],
   "source": [
    "df['funded'] = df['State'].apply(lambda x: 1 if x == 'Successful' else 0)"
   ]
  },
  {
   "cell_type": "code",
   "execution_count": 27,
   "id": "025e3688-e8f4-4873-a11c-6a3ba4c44ff5",
   "metadata": {
    "tags": []
   },
   "outputs": [
    {
     "data": {
      "text/plain": [
       "funded\n",
       "0    241002\n",
       "1    133851\n",
       "Name: count, dtype: int64"
      ]
     },
     "execution_count": 27,
     "metadata": {},
     "output_type": "execute_result"
    }
   ],
   "source": [
    "df['funded'].value_counts()"
   ]
  },
  {
   "cell_type": "code",
   "execution_count": 31,
   "id": "9a7f83b0-ec72-4fbd-8ae2-2bad8bf1ee76",
   "metadata": {
    "tags": []
   },
   "outputs": [
    {
     "name": "stdout",
     "output_type": "stream",
     "text": [
      "<class 'pandas.core.frame.DataFrame'>\n",
      "RangeIndex: 374853 entries, 0 to 374852\n",
      "Data columns (total 12 columns):\n",
      " #   Column       Non-Null Count   Dtype         \n",
      "---  ------       --------------   -----         \n",
      " 0   ID           374853 non-null  int64         \n",
      " 1   Name         374853 non-null  object        \n",
      " 2   Category     374853 non-null  object        \n",
      " 3   Subcategory  374853 non-null  object        \n",
      " 4   Country      374853 non-null  object        \n",
      " 5   Launched     374853 non-null  datetime64[ns]\n",
      " 6   Deadline     374853 non-null  datetime64[ns]\n",
      " 7   Goal         374853 non-null  int64         \n",
      " 8   Pledged      374853 non-null  int64         \n",
      " 9   Backers      374853 non-null  int64         \n",
      " 10  State        374853 non-null  object        \n",
      " 11  funded       374853 non-null  int64         \n",
      "dtypes: datetime64[ns](2), int64(5), object(5)\n",
      "memory usage: 34.3+ MB\n"
     ]
    }
   ],
   "source": [
    "# we conver Launched and Deadline to datetime.\n",
    "df['Launched'] = pd.to_datetime(df['Launched'])\n",
    "df['Deadline'] = pd.to_datetime(df['Deadline'])"
   ]
  },
  {
   "cell_type": "code",
   "execution_count": 49,
   "id": "81dfdcdc-27f1-4c01-9a7f-ebd613d94b9c",
   "metadata": {
    "tags": []
   },
   "outputs": [
    {
     "data": {
      "text/plain": [
       "count    374853.000000\n",
       "mean         33.217192\n",
       "std          12.804795\n",
       "min           0.000000\n",
       "25%          29.000000\n",
       "50%          29.000000\n",
       "75%          36.000000\n",
       "max          91.000000\n",
       "Name: time_active, dtype: float64"
      ]
     },
     "execution_count": 49,
     "metadata": {},
     "output_type": "execute_result"
    }
   ],
   "source": [
    "#We create a time active column which is the the length of time in days between being Launched and the deadline.\n",
    "df['time_active'] = (df['Deadline'] - df['Launched']).dt.days\n",
    "df['time_active'] = df['time_active'].astype(int)\n",
    "df['time_active'].describe()"
   ]
  },
  {
   "cell_type": "code",
   "execution_count": 40,
   "id": "91dfe83b-ace6-4db5-bd67-74eecf6d760c",
   "metadata": {
    "tags": []
   },
   "outputs": [],
   "source": [
    "#We define out categorical and numerical features and our target variable.\n",
    "target = ['funded']\n",
    "cat_features = ['Category', 'Subcategory', 'Country']\n",
    "num_features = ['Goal', 'Pledged', 'Backers']"
   ]
  },
  {
   "cell_type": "code",
   "execution_count": null,
   "id": "b9e2cb7f-1603-4799-b017-be723268e728",
   "metadata": {},
   "outputs": [],
   "source": [
    "# We drop all other columns we are not using \n",
    "#df = df.drop(columns=['ID', 'Name','Launched','Deadline', 'State', ])"
   ]
  },
  {
   "cell_type": "code",
   "execution_count": 52,
   "id": "18865499-05d6-4f47-be68-b86af5f075ec",
   "metadata": {
    "tags": []
   },
   "outputs": [
    {
     "data": {
      "image/png": "[encoded data removed]",
      "text/plain": [
       "<Figure size 1000x600 with 1 Axes>"
      ]
     },
     "metadata": {},
     "output_type": "display_data"
    },
    {
     "data": {
      "image/png": "[encoded data removed]",
      "text/plain": [
       "<Figure size 1000x600 with 1 Axes>"
      ]
     },
     "metadata": {},
     "output_type": "display_data"
    },
    {
     "data": {
      "image/png": "[encoded data removed]",
      "text/plain": [
       "<Figure size 1000x600 with 1 Axes>"
      ]
     },
     "metadata": {},
     "output_type": "display_data"
    }
   ],
   "source": [
    "for column in num_features:\n",
    "    plt.figure(figsize=(10, 6))\n",
    "    plt.hist(df[column], bins=50, color='skyblue', edgecolor='black')\n",
    "    plt.title(f'Histogram of {column}')\n",
    "    plt.xlabel(column)\n",
    "    plt.ylabel('Frequency')\n",
    "    plt.show()"
   ]
  },
  {
   "cell_type": "code",
   "execution_count": null,
   "id": "b2101ff7-90db-4eb0-b5c5-e2d223460703",
   "metadata": {},
   "outputs": [],
   "source": []
  }
 ],
 "metadata": {
  "kernelspec": {
   "display_name": "Python 3 (ipykernel)",
   "language": "python",
   "name": "python3"
  },
  "language_info": {
   "codemirror_mode": {
    "name": "ipython",
    "version": 3
   },
   "file_extension": ".py",
   "mimetype": "text/x-python",
   "name": "python",
   "nbconvert_exporter": "python",
   "pygments_lexer": "ipython3",
   "version": "3.11.3"
  }
 },
 "nbformat": 4,
 "nbformat_minor": 5
}
