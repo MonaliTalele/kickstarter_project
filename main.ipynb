{
 "cells": [
  {
   "cell_type": "code",
   "execution_count": 1,
   "metadata": {},
   "outputs": [],
   "source": [
    "from utils.models import random_forest, log_reg\n",
    "from utils.plot import evaluation_metrics\n",
    "from utils.model import get_cleaned_data, split_train_test, finetune_models\n",
    "data = get_cleaned_data(\"./data/kickstarter_projects.csv\")\n",
    "xtrain,xtest,ytrain,ytest = split_train_test(data, \"success\")\n"
   ]
  },
  {
   "cell_type": "code",
   "execution_count": 2,
   "metadata": {},
   "outputs": [],
   "source": [
    "random_forest = random_forest.fit(xtrain, ytrain)\n",
    "log_reg = log_reg.fit(xtrain,ytrain)"
   ]
  },
  {
   "cell_type": "code",
   "execution_count": 5,
   "metadata": {},
   "outputs": [
    {
     "name": "stdout",
     "output_type": "stream",
     "text": [
      "model\n",
      "model\n",
      "   Accuracy Score  Precision Score  Recall Score  F1 Score\n",
      "0            0.90             0.92          0.80      0.86\n",
      "1            0.75             0.93          0.34      0.50\n"
     ]
    }
   ],
   "source": [
    "\n",
    "evaluation_metrics([(\"log_reg\",log_reg), (\"random_forest\",random_forest)],xtest,ytest)\n"
   ]
  }
 ],
 "metadata": {
  "kernelspec": {
   "display_name": ".venv",
   "language": "python",
   "name": "python3"
  },
  "language_info": {
   "codemirror_mode": {
    "name": "ipython",
    "version": 3
   },
   "file_extension": ".py",
   "mimetype": "text/x-python",
   "name": "python",
   "nbconvert_exporter": "python",
   "pygments_lexer": "ipython3",
   "version": "3.11.3"
  }
 },
 "nbformat": 4,
 "nbformat_minor": 2
}
