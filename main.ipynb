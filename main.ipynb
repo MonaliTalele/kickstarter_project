{
 "cells": [
  {
   "cell_type": "code",
   "execution_count": 5,
   "metadata": {},
   "outputs": [],
   "source": [
    "from utils.models import random_forest, log_reg, knn\n",
    "from sklearn.ensemble import VotingClassifier\n",
    "from utils.plot import evaluation_metrics, evaluation_metric\n",
    "from utils.model import get_cleaned_data, split_train_test, finetune_model\n",
    "data = get_cleaned_data(\"./data/kickstarter_projects.csv\")\n",
    "xtrain,xtest,ytrain,ytest = split_train_test(data, \"success\")"
   ]
  },
  {
   "cell_type": "code",
   "execution_count": 1,
   "metadata": {},
   "outputs": [
    {
     "ename": "NameError",
     "evalue": "name 'knn' is not defined",
     "output_type": "error",
     "traceback": [
      "\u001b[0;31m---------------------------------------------------------------------------\u001b[0m",
      "\u001b[0;31mNameError\u001b[0m                                 Traceback (most recent call last)",
      "Cell \u001b[0;32mIn[1], line 1\u001b[0m\n\u001b[0;32m----> 1\u001b[0m models \u001b[38;5;241m=\u001b[39m [(\u001b[38;5;124m\"\u001b[39m\u001b[38;5;124mknn\u001b[39m\u001b[38;5;124m\"\u001b[39m,\u001b[43mknn\u001b[49m),(\u001b[38;5;124m\"\u001b[39m\u001b[38;5;124mlog_reg\u001b[39m\u001b[38;5;124m\"\u001b[39m,log_reg), (\u001b[38;5;124m\"\u001b[39m\u001b[38;5;124mrandom_forest\u001b[39m\u001b[38;5;124m\"\u001b[39m,random_forest)]\n\u001b[1;32m      2\u001b[0m ensemble \u001b[38;5;241m=\u001b[39m finetune_model(\n\u001b[1;32m      3\u001b[0m     VotingClassifier(estimators\u001b[38;5;241m=\u001b[39mmodels, voting\u001b[38;5;241m=\u001b[39m\u001b[38;5;124m\"\u001b[39m\u001b[38;5;124mhard\u001b[39m\u001b[38;5;124m\"\u001b[39m),\n\u001b[1;32m      4\u001b[0m     {\n\u001b[0;32m   (...)\u001b[0m\n\u001b[1;32m     18\u001b[0m     ytrain\n\u001b[1;32m     19\u001b[0m )\n",
      "\u001b[0;31mNameError\u001b[0m: name 'knn' is not defined"
     ]
    }
   ],
   "source": [
    "models = [(\"knn\",knn),(\"log_reg\",log_reg), (\"random_forest\",random_forest)]\n",
    "ensemble = finetune_model(\n",
    "    VotingClassifier(estimators=models, voting=\"hard\"),\n",
    "    {\n",
    "        #\"knn__KNN__n_neighbors\": [1,5,10],\n",
    "        #\"knn__KNN__p\": [1,2,3],\n",
    "        #\"knn__KNN__weights\": [\"uniform\", \"distance\"],\n",
    "        #\"knn__KNN__leaf_size\": [20,30,40],\n",
    "        #\"knn__KNN__algorithm\": [\"ball_tree\",\"kd_tree\",\"brute\"],\n",
    "        \"log_reg__LogisticRegression__C\": [0.1 ,0.2, 0.5, 0.7, 0.9, 1],\n",
    "        \"log_reg__LogisticRegression__solver\":[\"lbfgs\", \"liblinear\", \"newton-cg\", \"newton-cholesky\", \"sag\", \"saga\"],\n",
    "        \"log_reg__LogisticRegression__max_iter\":[500, 1000, 2000],\n",
    "        'random_forest__random_forest__criterion':[\"gini\", \"entropy\", \"log_loss\"],\n",
    "        'random_forest__random_forest__max_depth': [5,10,15,20],\n",
    "        'random_forest__random_forest__max_features':[ 'sqrt',\"log2\"],\n",
    "        'random_forest__random_forest__max_leaf_nodes': [10, 25, 50],\n",
    "        'random_forest__random_forest__min_samples_leaf': [2,5, 10, 15],\n",
    "        'random_forest__random_forest__min_samples_split':  [2,5, 10, 15],\n",
    "        'random_forest__random_forest__n_estimators':  [80,100,120]\n",
    "    },\n",
    "    xtrain,\n",
    "    ytrain\n",
    ")"
   ]
  }
 ],
 "metadata": {
  "kernelspec": {
   "display_name": ".venv",
   "language": "python",
   "name": "python3"
  },
  "language_info": {
   "codemirror_mode": {
    "name": "ipython",
    "version": 3
   },
   "file_extension": ".py",
   "mimetype": "text/x-python",
   "name": "python",
   "nbconvert_exporter": "python",
   "pygments_lexer": "ipython3",
   "version": "3.11.3"
  }
 },
 "nbformat": 4,
 "nbformat_minor": 2
}
