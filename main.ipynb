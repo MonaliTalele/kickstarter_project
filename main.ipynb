{
 "cells": [
  {
   "cell_type": "code",
   "execution_count": 19,
   "metadata": {},
   "outputs": [],
   "source": [
    "from utils.models import random_forest, log_reg, xgboost, ensemble\n",
    "from sklearn.model_selection import GridSearchCV\n",
    "from utils.model import get_cleaned_data, split_train_test, finetune_model\n",
    "from utils.plot import evaluation_metric\n",
    "import joblib\n",
    "data = get_cleaned_data(\"./data/kickstarter_projects.csv\")\n",
    "xtrain,xtest,ytrain,ytest = split_train_test(data, \"success\")"
   ]
  },
  {
   "cell_type": "code",
   "execution_count": 25,
   "metadata": {},
   "outputs": [
    {
     "data": {
      "text/html": [
       "<style>#sk-container-id-4 {color: black;background-color: white;}#sk-container-id-4 pre{padding: 0;}#sk-container-id-4 div.sk-toggleable {background-color: white;}#sk-container-id-4 label.sk-toggleable__label {cursor: pointer;display: block;width: 100%;margin-bottom: 0;padding: 0.3em;box-sizing: border-box;text-align: center;}#sk-container-id-4 label.sk-toggleable__label-arrow:before {content: \"▸\";float: left;margin-right: 0.25em;color: #696969;}#sk-container-id-4 label.sk-toggleable__label-arrow:hover:before {color: black;}#sk-container-id-4 div.sk-estimator:hover label.sk-toggleable__label-arrow:before {color: black;}#sk-container-id-4 div.sk-toggleable__content {max-height: 0;max-width: 0;overflow: hidden;text-align: left;background-color: #f0f8ff;}#sk-container-id-4 div.sk-toggleable__content pre {margin: 0.2em;color: black;border-radius: 0.25em;background-color: #f0f8ff;}#sk-container-id-4 input.sk-toggleable__control:checked~div.sk-toggleable__content {max-height: 200px;max-width: 100%;overflow: auto;}#sk-container-id-4 input.sk-toggleable__control:checked~label.sk-toggleable__label-arrow:before {content: \"▾\";}#sk-container-id-4 div.sk-estimator input.sk-toggleable__control:checked~label.sk-toggleable__label {background-color: #d4ebff;}#sk-container-id-4 div.sk-label input.sk-toggleable__control:checked~label.sk-toggleable__label {background-color: #d4ebff;}#sk-container-id-4 input.sk-hidden--visually {border: 0;clip: rect(1px 1px 1px 1px);clip: rect(1px, 1px, 1px, 1px);height: 1px;margin: -1px;overflow: hidden;padding: 0;position: absolute;width: 1px;}#sk-container-id-4 div.sk-estimator {font-family: monospace;background-color: #f0f8ff;border: 1px dotted black;border-radius: 0.25em;box-sizing: border-box;margin-bottom: 0.5em;}#sk-container-id-4 div.sk-estimator:hover {background-color: #d4ebff;}#sk-container-id-4 div.sk-parallel-item::after {content: \"\";width: 100%;border-bottom: 1px solid gray;flex-grow: 1;}#sk-container-id-4 div.sk-label:hover label.sk-toggleable__label {background-color: #d4ebff;}#sk-container-id-4 div.sk-serial::before {content: \"\";position: absolute;border-left: 1px solid gray;box-sizing: border-box;top: 0;bottom: 0;left: 50%;z-index: 0;}#sk-container-id-4 div.sk-serial {display: flex;flex-direction: column;align-items: center;background-color: white;padding-right: 0.2em;padding-left: 0.2em;position: relative;}#sk-container-id-4 div.sk-item {position: relative;z-index: 1;}#sk-container-id-4 div.sk-parallel {display: flex;align-items: stretch;justify-content: center;background-color: white;position: relative;}#sk-container-id-4 div.sk-item::before, #sk-container-id-4 div.sk-parallel-item::before {content: \"\";position: absolute;border-left: 1px solid gray;box-sizing: border-box;top: 0;bottom: 0;left: 50%;z-index: -1;}#sk-container-id-4 div.sk-parallel-item {display: flex;flex-direction: column;z-index: 1;position: relative;background-color: white;}#sk-container-id-4 div.sk-parallel-item:first-child::after {align-self: flex-end;width: 50%;}#sk-container-id-4 div.sk-parallel-item:last-child::after {align-self: flex-start;width: 50%;}#sk-container-id-4 div.sk-parallel-item:only-child::after {width: 0;}#sk-container-id-4 div.sk-dashed-wrapped {border: 1px dashed gray;margin: 0 0.4em 0.5em 0.4em;box-sizing: border-box;padding-bottom: 0.4em;background-color: white;}#sk-container-id-4 div.sk-label label {font-family: monospace;font-weight: bold;display: inline-block;line-height: 1.2em;}#sk-container-id-4 div.sk-label-container {text-align: center;}#sk-container-id-4 div.sk-container {/* jupyter's `normalize.less` sets `[hidden] { display: none; }` but bootstrap.min.css set `[hidden] { display: none !important; }` so we also need the `!important` here to be able to override the default hidden behavior on the sphinx rendered scikit-learn.org. See: https://github.com/scikit-learn/scikit-learn/issues/21755 */display: inline-block !important;position: relative;}#sk-container-id-4 div.sk-text-repr-fallback {display: none;}</style><div id=\"sk-container-id-4\" class=\"sk-top-container\"><div class=\"sk-text-repr-fallback\"><pre>GridSearchCV(estimator=Pipeline(steps=[(&#x27;pre_processing&#x27;,\n",
       "                                        Pipeline(steps=[(&#x27;ColumnTransformer&#x27;,\n",
       "                                                         ColumnTransformer(transformers=[(&#x27;duration&#x27;,\n",
       "                                                                                          FunctionTransformer(func=&lt;function duration at 0x10c0536a0&gt;),\n",
       "                                                                                          [&#x27;launched&#x27;,\n",
       "                                                                                           &#x27;deadline&#x27;]),\n",
       "                                                                                         (&#x27;split_date&#x27;,\n",
       "                                                                                          FunctionTransformer(func=&lt;function split_date at 0x122781300&gt;),\n",
       "                                                                                          [&#x27;launched&#x27;]),\n",
       "                                                                                         (&#x27;scale&#x27;,\n",
       "                                                                                          FunctionTransformer(func=&lt;functi...\n",
       "                                                      num_parallel_tree=None,\n",
       "                                                      random_state=None, ...))]),\n",
       "             param_grid={&#x27;estimator__xbg__colsample_bytree&#x27;: [0.8, 1.0],\n",
       "                         &#x27;estimator__xbg__gamma&#x27;: [0, 0.1, 0.2],\n",
       "                         &#x27;estimator__xbg__learning_rate&#x27;: [0.01, 0.1, 0.2],\n",
       "                         &#x27;estimator__xbg__max_depth&#x27;: [3, 5, 7],\n",
       "                         &#x27;estimator__xbg__min_child_weight&#x27;: [1, 3, 5],\n",
       "                         &#x27;estimator__xbg__n_estimators&#x27;: [50, 100, 200],\n",
       "                         &#x27;estimator__xbg__subsample&#x27;: [0.8, 1.0]})</pre><b>In a Jupyter environment, please rerun this cell to show the HTML representation or trust the notebook. <br />On GitHub, the HTML representation is unable to render, please try loading this page with nbviewer.org.</b></div><div class=\"sk-container\" hidden><div class=\"sk-item sk-dashed-wrapped\"><div class=\"sk-label-container\"><div class=\"sk-label sk-toggleable\"><input class=\"sk-toggleable__control sk-hidden--visually\" id=\"sk-estimator-id-60\" type=\"checkbox\" ><label for=\"sk-estimator-id-60\" class=\"sk-toggleable__label sk-toggleable__label-arrow\">GridSearchCV</label><div class=\"sk-toggleable__content\"><pre>GridSearchCV(estimator=Pipeline(steps=[(&#x27;pre_processing&#x27;,\n",
       "                                        Pipeline(steps=[(&#x27;ColumnTransformer&#x27;,\n",
       "                                                         ColumnTransformer(transformers=[(&#x27;duration&#x27;,\n",
       "                                                                                          FunctionTransformer(func=&lt;function duration at 0x10c0536a0&gt;),\n",
       "                                                                                          [&#x27;launched&#x27;,\n",
       "                                                                                           &#x27;deadline&#x27;]),\n",
       "                                                                                         (&#x27;split_date&#x27;,\n",
       "                                                                                          FunctionTransformer(func=&lt;function split_date at 0x122781300&gt;),\n",
       "                                                                                          [&#x27;launched&#x27;]),\n",
       "                                                                                         (&#x27;scale&#x27;,\n",
       "                                                                                          FunctionTransformer(func=&lt;functi...\n",
       "                                                      num_parallel_tree=None,\n",
       "                                                      random_state=None, ...))]),\n",
       "             param_grid={&#x27;estimator__xbg__colsample_bytree&#x27;: [0.8, 1.0],\n",
       "                         &#x27;estimator__xbg__gamma&#x27;: [0, 0.1, 0.2],\n",
       "                         &#x27;estimator__xbg__learning_rate&#x27;: [0.01, 0.1, 0.2],\n",
       "                         &#x27;estimator__xbg__max_depth&#x27;: [3, 5, 7],\n",
       "                         &#x27;estimator__xbg__min_child_weight&#x27;: [1, 3, 5],\n",
       "                         &#x27;estimator__xbg__n_estimators&#x27;: [50, 100, 200],\n",
       "                         &#x27;estimator__xbg__subsample&#x27;: [0.8, 1.0]})</pre></div></div></div><div class=\"sk-parallel\"><div class=\"sk-parallel-item\"><div class=\"sk-item\"><div class=\"sk-label-container\"><div class=\"sk-label sk-toggleable\"><input class=\"sk-toggleable__control sk-hidden--visually\" id=\"sk-estimator-id-61\" type=\"checkbox\" ><label for=\"sk-estimator-id-61\" class=\"sk-toggleable__label sk-toggleable__label-arrow\">estimator: Pipeline</label><div class=\"sk-toggleable__content\"><pre>Pipeline(steps=[(&#x27;pre_processing&#x27;,\n",
       "                 Pipeline(steps=[(&#x27;ColumnTransformer&#x27;,\n",
       "                                  ColumnTransformer(transformers=[(&#x27;duration&#x27;,\n",
       "                                                                   FunctionTransformer(func=&lt;function duration at 0x10c0536a0&gt;),\n",
       "                                                                   [&#x27;launched&#x27;,\n",
       "                                                                    &#x27;deadline&#x27;]),\n",
       "                                                                  (&#x27;split_date&#x27;,\n",
       "                                                                   FunctionTransformer(func=&lt;function split_date at 0x122781300&gt;),\n",
       "                                                                   [&#x27;launched&#x27;]),\n",
       "                                                                  (&#x27;scale&#x27;,\n",
       "                                                                   FunctionTransformer(func=&lt;function passthrough at 0x123ab3...\n",
       "                               feature_types=None, gamma=None, grow_policy=None,\n",
       "                               importance_type=None,\n",
       "                               interaction_constraints=None, learning_rate=0.1,\n",
       "                               max_bin=None, max_cat_threshold=None,\n",
       "                               max_cat_to_onehot=None, max_delta_step=None,\n",
       "                               max_depth=None, max_leaves=None,\n",
       "                               min_child_weight=None, missing=nan,\n",
       "                               monotone_constraints=None, multi_strategy=None,\n",
       "                               n_estimators=100, n_jobs=None,\n",
       "                               num_parallel_tree=None, random_state=None, ...))])</pre></div></div></div><div class=\"sk-serial\"><div class=\"sk-item\"><div class=\"sk-serial\"><div class=\"sk-item\"><div class=\"sk-label-container\"><div class=\"sk-label sk-toggleable\"><input class=\"sk-toggleable__control sk-hidden--visually\" id=\"sk-estimator-id-62\" type=\"checkbox\" ><label for=\"sk-estimator-id-62\" class=\"sk-toggleable__label sk-toggleable__label-arrow\">pre_processing: Pipeline</label><div class=\"sk-toggleable__content\"><pre>Pipeline(steps=[(&#x27;ColumnTransformer&#x27;,\n",
       "                 ColumnTransformer(transformers=[(&#x27;duration&#x27;,\n",
       "                                                  FunctionTransformer(func=&lt;function duration at 0x10c0536a0&gt;),\n",
       "                                                  [&#x27;launched&#x27;, &#x27;deadline&#x27;]),\n",
       "                                                 (&#x27;split_date&#x27;,\n",
       "                                                  FunctionTransformer(func=&lt;function split_date at 0x122781300&gt;),\n",
       "                                                  [&#x27;launched&#x27;]),\n",
       "                                                 (&#x27;scale&#x27;,\n",
       "                                                  FunctionTransformer(func=&lt;function passthrough at 0x123ab36a0&gt;),\n",
       "                                                  [&#x27;goal&#x27;, &#x27;backers&#x27;]),\n",
       "                                                 (&#x27;passthrough&#x27;,\n",
       "                                                  OneHotEncoder(drop=&#x27;first&#x27;),\n",
       "                                                  [&#x27;category&#x27;, &#x27;subcategory&#x27;,\n",
       "                                                   &#x27;country&#x27;])]))])</pre></div></div></div><div class=\"sk-serial\"><div class=\"sk-item sk-dashed-wrapped\"><div class=\"sk-label-container\"><div class=\"sk-label sk-toggleable\"><input class=\"sk-toggleable__control sk-hidden--visually\" id=\"sk-estimator-id-63\" type=\"checkbox\" ><label for=\"sk-estimator-id-63\" class=\"sk-toggleable__label sk-toggleable__label-arrow\">ColumnTransformer: ColumnTransformer</label><div class=\"sk-toggleable__content\"><pre>ColumnTransformer(transformers=[(&#x27;duration&#x27;,\n",
       "                                 FunctionTransformer(func=&lt;function duration at 0x10c0536a0&gt;),\n",
       "                                 [&#x27;launched&#x27;, &#x27;deadline&#x27;]),\n",
       "                                (&#x27;split_date&#x27;,\n",
       "                                 FunctionTransformer(func=&lt;function split_date at 0x122781300&gt;),\n",
       "                                 [&#x27;launched&#x27;]),\n",
       "                                (&#x27;scale&#x27;,\n",
       "                                 FunctionTransformer(func=&lt;function passthrough at 0x123ab36a0&gt;),\n",
       "                                 [&#x27;goal&#x27;, &#x27;backers&#x27;]),\n",
       "                                (&#x27;passthrough&#x27;, OneHotEncoder(drop=&#x27;first&#x27;),\n",
       "                                 [&#x27;category&#x27;, &#x27;subcategory&#x27;, &#x27;country&#x27;])])</pre></div></div></div><div class=\"sk-parallel\"><div class=\"sk-parallel-item\"><div class=\"sk-item\"><div class=\"sk-label-container\"><div class=\"sk-label sk-toggleable\"><input class=\"sk-toggleable__control sk-hidden--visually\" id=\"sk-estimator-id-64\" type=\"checkbox\" ><label for=\"sk-estimator-id-64\" class=\"sk-toggleable__label sk-toggleable__label-arrow\">duration</label><div class=\"sk-toggleable__content\"><pre>[&#x27;launched&#x27;, &#x27;deadline&#x27;]</pre></div></div></div><div class=\"sk-serial\"><div class=\"sk-item\"><div class=\"sk-estimator sk-toggleable\"><input class=\"sk-toggleable__control sk-hidden--visually\" id=\"sk-estimator-id-65\" type=\"checkbox\" ><label for=\"sk-estimator-id-65\" class=\"sk-toggleable__label sk-toggleable__label-arrow\">FunctionTransformer</label><div class=\"sk-toggleable__content\"><pre>FunctionTransformer(func=&lt;function duration at 0x10c0536a0&gt;)</pre></div></div></div></div></div></div><div class=\"sk-parallel-item\"><div class=\"sk-item\"><div class=\"sk-label-container\"><div class=\"sk-label sk-toggleable\"><input class=\"sk-toggleable__control sk-hidden--visually\" id=\"sk-estimator-id-66\" type=\"checkbox\" ><label for=\"sk-estimator-id-66\" class=\"sk-toggleable__label sk-toggleable__label-arrow\">split_date</label><div class=\"sk-toggleable__content\"><pre>[&#x27;launched&#x27;]</pre></div></div></div><div class=\"sk-serial\"><div class=\"sk-item\"><div class=\"sk-estimator sk-toggleable\"><input class=\"sk-toggleable__control sk-hidden--visually\" id=\"sk-estimator-id-67\" type=\"checkbox\" ><label for=\"sk-estimator-id-67\" class=\"sk-toggleable__label sk-toggleable__label-arrow\">FunctionTransformer</label><div class=\"sk-toggleable__content\"><pre>FunctionTransformer(func=&lt;function split_date at 0x122781300&gt;)</pre></div></div></div></div></div></div><div class=\"sk-parallel-item\"><div class=\"sk-item\"><div class=\"sk-label-container\"><div class=\"sk-label sk-toggleable\"><input class=\"sk-toggleable__control sk-hidden--visually\" id=\"sk-estimator-id-68\" type=\"checkbox\" ><label for=\"sk-estimator-id-68\" class=\"sk-toggleable__label sk-toggleable__label-arrow\">scale</label><div class=\"sk-toggleable__content\"><pre>[&#x27;goal&#x27;, &#x27;backers&#x27;]</pre></div></div></div><div class=\"sk-serial\"><div class=\"sk-item\"><div class=\"sk-estimator sk-toggleable\"><input class=\"sk-toggleable__control sk-hidden--visually\" id=\"sk-estimator-id-69\" type=\"checkbox\" ><label for=\"sk-estimator-id-69\" class=\"sk-toggleable__label sk-toggleable__label-arrow\">FunctionTransformer</label><div class=\"sk-toggleable__content\"><pre>FunctionTransformer(func=&lt;function passthrough at 0x123ab36a0&gt;)</pre></div></div></div></div></div></div><div class=\"sk-parallel-item\"><div class=\"sk-item\"><div class=\"sk-label-container\"><div class=\"sk-label sk-toggleable\"><input class=\"sk-toggleable__control sk-hidden--visually\" id=\"sk-estimator-id-70\" type=\"checkbox\" ><label for=\"sk-estimator-id-70\" class=\"sk-toggleable__label sk-toggleable__label-arrow\">passthrough</label><div class=\"sk-toggleable__content\"><pre>[&#x27;category&#x27;, &#x27;subcategory&#x27;, &#x27;country&#x27;]</pre></div></div></div><div class=\"sk-serial\"><div class=\"sk-item\"><div class=\"sk-estimator sk-toggleable\"><input class=\"sk-toggleable__control sk-hidden--visually\" id=\"sk-estimator-id-71\" type=\"checkbox\" ><label for=\"sk-estimator-id-71\" class=\"sk-toggleable__label sk-toggleable__label-arrow\">OneHotEncoder</label><div class=\"sk-toggleable__content\"><pre>OneHotEncoder(drop=&#x27;first&#x27;)</pre></div></div></div></div></div></div></div></div></div></div><div class=\"sk-item\"><div class=\"sk-estimator sk-toggleable\"><input class=\"sk-toggleable__control sk-hidden--visually\" id=\"sk-estimator-id-72\" type=\"checkbox\" ><label for=\"sk-estimator-id-72\" class=\"sk-toggleable__label sk-toggleable__label-arrow\">XGBClassifier</label><div class=\"sk-toggleable__content\"><pre>XGBClassifier(base_score=None, booster=None, callbacks=None,\n",
       "              colsample_bylevel=None, colsample_bynode=None,\n",
       "              colsample_bytree=None, device=None, early_stopping_rounds=None,\n",
       "              enable_categorical=False, eval_metric=None, feature_types=None,\n",
       "              gamma=None, grow_policy=None, importance_type=None,\n",
       "              interaction_constraints=None, learning_rate=0.1, max_bin=None,\n",
       "              max_cat_threshold=None, max_cat_to_onehot=None,\n",
       "              max_delta_step=None, max_depth=None, max_leaves=None,\n",
       "              min_child_weight=None, missing=nan, monotone_constraints=None,\n",
       "              multi_strategy=None, n_estimators=100, n_jobs=None,\n",
       "              num_parallel_tree=None, random_state=None, ...)</pre></div></div></div></div></div></div></div></div></div></div></div></div>"
      ],
      "text/plain": [
       "GridSearchCV(estimator=Pipeline(steps=[('pre_processing',\n",
       "                                        Pipeline(steps=[('ColumnTransformer',\n",
       "                                                         ColumnTransformer(transformers=[('duration',\n",
       "                                                                                          FunctionTransformer(func=<function duration at 0x10c0536a0>),\n",
       "                                                                                          ['launched',\n",
       "                                                                                           'deadline']),\n",
       "                                                                                         ('split_date',\n",
       "                                                                                          FunctionTransformer(func=<function split_date at 0x122781300>),\n",
       "                                                                                          ['launched']),\n",
       "                                                                                         ('scale',\n",
       "                                                                                          FunctionTransformer(func=<functi...\n",
       "                                                      num_parallel_tree=None,\n",
       "                                                      random_state=None, ...))]),\n",
       "             param_grid={'estimator__xbg__colsample_bytree': [0.8, 1.0],\n",
       "                         'estimator__xbg__gamma': [0, 0.1, 0.2],\n",
       "                         'estimator__xbg__learning_rate': [0.01, 0.1, 0.2],\n",
       "                         'estimator__xbg__max_depth': [3, 5, 7],\n",
       "                         'estimator__xbg__min_child_weight': [1, 3, 5],\n",
       "                         'estimator__xbg__n_estimators': [50, 100, 200],\n",
       "                         'estimator__xbg__subsample': [0.8, 1.0]})"
      ]
     },
     "execution_count": 25,
     "metadata": {},
     "output_type": "execute_result"
    }
   ],
   "source": []
  },
  {
   "cell_type": "code",
   "execution_count": 28,
   "metadata": {},
   "outputs": [
    {
     "data": {
      "text/plain": [
       "['./utils/pickles/xgboost.joblib']"
      ]
     },
     "execution_count": 28,
     "metadata": {},
     "output_type": "execute_result"
    }
   ],
   "source": [
    "xgboost.fit(xtrain,ytrain)\n",
    "joblib.dump(xgboost,\"./utils/pickles/xgboost.joblib\")"
   ]
  }
 ],
 "metadata": {
  "kernelspec": {
   "display_name": ".venv",
   "language": "python",
   "name": "python3"
  },
  "language_info": {
   "codemirror_mode": {
    "name": "ipython",
    "version": 3
   },
   "file_extension": ".py",
   "mimetype": "text/x-python",
   "name": "python",
   "nbconvert_exporter": "python",
   "pygments_lexer": "ipython3",
   "version": "3.11.3"
  }
 },
 "nbformat": 4,
 "nbformat_minor": 2
}
